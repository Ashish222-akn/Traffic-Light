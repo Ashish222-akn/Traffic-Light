{
 "cells": [
  {
   "cell_type": "code",
   "execution_count": null,
   "id": "7621d0f7-216c-4962-8507-9a8293f4c78a",
   "metadata": {},
   "outputs": [],
   "source": [
    "import tkinter as tk\n",
    "import time\n",
    "from PIL import Image,ImageTk\n",
    "\n",
    "def show_light(color,time_left):\n",
    "    img=ImageTk.PhotoImage(Image.open(f\"{color}.png\"))\n",
    "    image_lable.config(image=img)\n",
    "    image_lable.image=img\n",
    "\n",
    "    time_lable.config(text=f\"time left:{time_left}s\")\n",
    "    root.update()\n",
    "def traffic_lights():\n",
    "    while True:\n",
    "        for i in range(5,0,-1):\n",
    "            show_light(\"green\",i)\n",
    "            time.sleep(1)\n",
    "        for i in range(5,0,-1):\n",
    "            show_light(\"yellow\",i)\n",
    "            time.sleep(1)\n",
    "        for i in range(5,0,-1):\n",
    "            show_light(\"red_2\",i)\n",
    "            time.sleep(1)\n",
    "        \n",
    "root= tk.Tk()\n",
    "root.title(\"traffic signal app\")\n",
    "root.geometry(\"700x700\")\n",
    "\n",
    "\n",
    "image_lable=tk.Label(root,text=\"Image Lable\")\n",
    "image_lable.pack(pady=20)\n",
    "\n",
    "time_lable=tk.Label(root,text=\"Time Lable\",font=20)\n",
    "time_lable.pack(pady=20)\n",
    "\n",
    "\n",
    "traffic_lights()\n",
    "root.mainloop()\n",
    "\n"
   ]
  },
  {
   "cell_type": "code",
   "execution_count": null,
   "id": "f5803506-a5ad-4b99-abaa-629999d55c57",
   "metadata": {},
   "outputs": [],
   "source": []
  }
 ],
 "metadata": {
  "kernelspec": {
   "display_name": "Python 3 (ipykernel)",
   "language": "python",
   "name": "python3"
  },
  "language_info": {
   "codemirror_mode": {
    "name": "ipython",
    "version": 3
   },
   "file_extension": ".py",
   "mimetype": "text/x-python",
   "name": "python",
   "nbconvert_exporter": "python",
   "pygments_lexer": "ipython3",
   "version": "3.12.7"
  }
 },
 "nbformat": 4,
 "nbformat_minor": 5
}
